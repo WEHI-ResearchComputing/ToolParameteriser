{
 "cells": [
  {
   "cell_type": "code",
   "execution_count": 1,
   "metadata": {},
   "outputs": [
    {
     "name": "stdout",
     "output_type": "stream",
     "text": [
      "{'input': {'type': 'file', 'path': '/vast/projects/RCP/benchmarking/MQ/P4023/*.d'}, 'extra': [{'name': 'fasta', 'path': '/vast/projects/RCP/benchmarking/MQ/P4023/Human_Proteome_reviewed_May2021.fasta'}, {'name': 'xml', 'path': '/vast/projects/RCP/benchmarking/MQ/P4023/mqpar.xml'}], 'output': {'path': '/vast/scratch/users/iskander.j/MQ'}, 'jobs': {'num_reps': 1, 'params_path': '/vast/scratch/users/iskander.j/ToolParametriser/examples/MQbenchmarking-profiles.csv', 'tool_type': 'MQ'}}\n",
      "Validated\n",
      "{'partition': 'regular', 'type': 'lib', 'job-name': 'MQ-1', 'NumFiles': '2', 'cpus-per-task': '2', 'mem': '1', 'threads': '2', 'timelimit': '4:00:00'}\n",
      "/vast/scratch/users/iskander.j/MQ_20230118233928/repo-MQ-1-20230118233928/mqpar.mod.xml\n",
      "MQ created and run\n"
     ]
    }
   ],
   "source": [
    "import testcreator\n",
    "import tomllib\n",
    "import logging,os,errno\n",
    "\n",
    "if not os.path.exists(f'{os.path.expanduser(\"~\")}/.toolparametriser/'):\n",
    "    os.makedirs(f'{os.path.expanduser(\"~\")}/.toolparametriser/')\n",
    "FORMAT = '[%(asctime)s]:%(levelname)s:%(name)s:%(message)s'\n",
    "logging.basicConfig(format=FORMAT,filename=f'{os.path.expanduser(\"~\")}/.toolparametriser/debug.log', \n",
    "                    encoding='utf-8', level=logging.DEBUG)\n",
    "\n",
    "config_path=\"/vast/scratch/users/iskander.j/ToolParametriser/examples/config.toml\"\n",
    "if not os.path.exists(config_path):\n",
    "    logging.fatal(\"Config file does not exit\")\n",
    "    raise FileNotFoundError(errno.ENOENT, os.strerror(errno.ENOENT), config_path)\n",
    "        \n",
    "with open(config_path, \"rb\") as f:\n",
    "    config = tomllib.load(f)   \n",
    "    print(config)\n",
    "\n",
    "mq=testcreator.MQTester(config=config)\n",
    "mq.run_test()"
   ]
  },
  {
   "cell_type": "code",
   "execution_count": 9,
   "metadata": {},
   "outputs": [
    {
     "name": "stdout",
     "output_type": "stream",
     "text": [
      "valid\n"
     ]
    },
    {
     "data": {
      "text/plain": [
       "[{'name': 'fasta',\n",
       "  'path': '/vast/projects/RCP/benchmarking/MQ/P4023/Human_Proteome_reviewed_May2021.fasta'},\n",
       " {'name': 'xml', 'path': '/vast/projects/RCP/benchmarking/MQ/P4023/mqpar.xml'}]"
      ]
     },
     "execution_count": 9,
     "metadata": {},
     "output_type": "execute_result"
    }
   ],
   "source": [
    "if any(d.get('name', \"\") == 'xml' for d in config[\"extra\"]):\n",
    "    print(\"valid\")\n",
    "else:\n",
    "    print(\"Nope\")\n",
    "config['extra'] "
   ]
  },
  {
   "cell_type": "code",
   "execution_count": 2,
   "metadata": {},
   "outputs": [
    {
     "data": {
      "text/plain": [
       "'/vast/projects/RCP/benchmarking/MQ/P4023/mqpar.xml'"
      ]
     },
     "execution_count": 2,
     "metadata": {},
     "output_type": "execute_result"
    }
   ],
   "source": [
    "next(item['path'] for item in config[\"extra\"] if item[\"name\"] == \"xml\")"
   ]
  }
 ],
 "metadata": {
  "kernelspec": {
   "display_name": "Python 3.11.0 ('py3_11')",
   "language": "python",
   "name": "python3"
  },
  "language_info": {
   "codemirror_mode": {
    "name": "ipython",
    "version": 3
   },
   "file_extension": ".py",
   "mimetype": "text/x-python",
   "name": "python",
   "nbconvert_exporter": "python",
   "pygments_lexer": "ipython3",
   "version": "3.11.0"
  },
  "vscode": {
   "interpreter": {
    "hash": "9cfd231cc03d0882ba851abf526d579e6914ecb3d23de74c525c11625872444e"
   }
  }
 },
 "nbformat": 4,
 "nbformat_minor": 2
}
