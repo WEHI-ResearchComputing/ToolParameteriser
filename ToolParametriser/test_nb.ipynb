{
 "cells": [
  {
   "cell_type": "code",
   "execution_count": 2,
   "metadata": {},
   "outputs": [
    {
     "name": "stdout",
     "output_type": "stream",
     "text": [
      "Validated\n",
      "Submitted batch job 10290517\n",
      "0\n",
      "MQ created and run\n",
      "Submitted batch job 10290546\n",
      "0\n",
      "MQ created and run\n"
     ]
    }
   ],
   "source": [
    "import testcreator\n",
    "import tomllib\n",
    "import logging,os,errno\n",
    "\n",
    "if not os.path.exists(f'{os.path.expanduser(\"~\")}/.toolparametriser/'):\n",
    "    os.makedirs(f'{os.path.expanduser(\"~\")}/.toolparametriser/')\n",
    "\n",
    "\n",
    "\n",
    "config_path=\"/vast/scratch/users/iskander.j/ToolParametriser/examples/config.toml\"\n",
    "if not os.path.exists(config_path):\n",
    "    logging.fatal(\"Config file does not exit\")\n",
    "    raise FileNotFoundError(errno.ENOENT, os.strerror(errno.ENOENT), config_path)\n",
    "        \n",
    "with open(config_path, \"rb\") as f:\n",
    "    config = tomllib.load(f)   \n",
    "    #print(config)\n",
    "\n",
    "mq=testcreator.MQTester(config=config)\n",
    "mq.create_jobscript_template()\n",
    "#mq.create_jobscript()\n",
    "mq.run_test()"
   ]
  },
  {
   "cell_type": "code",
   "execution_count": 2,
   "metadata": {},
   "outputs": [
    {
     "name": "stdout",
     "output_type": "stream",
     "text": [
      "#!/bin/bash\n",
      "#SBATCH -p ${partition}\n",
      "#SBATCH --job-name=${jobname}']}\n",
      "#SBATCH --ntasks=${ntasks}\n",
      "#SBATCH --time=${timelimit}\n",
      "#SBATCH --cpus-per-task=${cpuspertask}\n",
      "#SBATCH --mem=${mem}G\n",
      "#SBATCH --output=slurm-%j.out\n",
      "#SBATCH --mail-type=ALL,ARRAY_TASKS\n",
      "#SBATCH --mail-user={email}\n",
      "module load MaxQuant/2.0.2.0\n",
      "/stornext/System/data/apps/rc-tools/rc-tools-1.0/bin/tools/MQ/createMQXML.py ${threads}\n",
      "MaxQuant mqpar.mod.xml\n",
      "echo \"$SLURM_ARRAY_JOB_ID,$SLURM_ARRAY_TASK_ID,${partition},${type},${jobname},${numfiles},${cpuspertask},${mem},${threads},${timelimit}\" >> /vast/scratch/users/iskander.j/MQ_20230123182449/jobs_executed.txt\n",
      "\n"
     ]
    }
   ],
   "source": [
    "from string import Template\n",
    "with open('/home/users/allstaff/iskander.j/.toolparametriser/MQtemplate.tmpl', 'r') as f:\n",
    "    src = Template(f.read())\n",
    "    #result = src.substitute(d)\n",
    "    print(src.template)\n",
    "\n",
    "  \n",
    "# Substitute value of x in above template\n",
    "#print (t.substitute({'x' : 1}))"
   ]
  },
  {
   "cell_type": "code",
   "execution_count": 3,
   "metadata": {},
   "outputs": [
    {
     "data": {
      "text/plain": [
       "'/vast/projects/RCP/benchmarking/MQ/P4023/mqpar.xml'"
      ]
     },
     "execution_count": 3,
     "metadata": {},
     "output_type": "execute_result"
    }
   ],
   "source": [
    "next(item['path'] for item in config[\"extra\"] if item[\"name\"] == \"xml\")"
   ]
  }
 ],
 "metadata": {
  "kernelspec": {
   "display_name": "Python 3.11.0 ('py3_11')",
   "language": "python",
   "name": "python3"
  },
  "language_info": {
   "codemirror_mode": {
    "name": "ipython",
    "version": 3
   },
   "file_extension": ".py",
   "mimetype": "text/x-python",
   "name": "python",
   "nbconvert_exporter": "python",
   "pygments_lexer": "ipython3",
   "version": "3.11.0"
  },
  "vscode": {
   "interpreter": {
    "hash": "9cfd231cc03d0882ba851abf526d579e6914ecb3d23de74c525c11625872444e"
   }
  }
 },
 "nbformat": 4,
 "nbformat_minor": 2
}
