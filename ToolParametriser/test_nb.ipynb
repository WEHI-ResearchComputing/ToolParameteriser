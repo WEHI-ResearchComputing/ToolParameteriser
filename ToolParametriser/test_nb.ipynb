{
 "cells": [
  {
   "cell_type": "code",
   "execution_count": null,
   "metadata": {},
   "outputs": [],
   "source": [
    "import testcreator\n",
    "import tomllib\n",
    "import logging,os,errno\n",
    "\n",
    "if not os.path.exists(f'{os.path.expanduser(\"~\")}/.toolparametriser/'):\n",
    "    os.makedirs(f'{os.path.expanduser(\"~\")}/.toolparametriser/')\n",
    "\n",
    "config_path=\"/vast/scratch/users/iskander.j/ToolParametriser/examples/configMQ.toml\"\n",
    "if not os.path.exists(config_path):\n",
    "    logging.fatal(\"Config file does not exit\")\n",
    "    raise FileNotFoundError(errno.ENOENT, os.strerror(errno.ENOENT), config_path)\n",
    "        \n",
    "with open(config_path, \"rb\") as f:\n",
    "    config = tomllib.load(f)   \n",
    "    #print(config)\n",
    "\n",
    "mq=testcreator.MQTester(config=config)\n",
    "mq.run_test(usetmpl=False)"
   ]
  },
  {
   "cell_type": "code",
   "execution_count": 3,
   "metadata": {},
   "outputs": [
    {
     "name": "stdout",
     "output_type": "stream",
     "text": [
      "Submitted batch job 10445204\n",
      "0\n",
      "DiaNN created and run\n",
      "Submitted batch job 10445207\n",
      "0\n",
      "DiaNN created and run\n",
      "Submitted batch job 10445214\n",
      "0\n",
      "DiaNN created and run\n",
      "Submitted batch job 10445215\n",
      "0\n",
      "DiaNN created and run\n",
      "Submitted batch job 10445219\n",
      "0\n",
      "DiaNN created and run\n"
     ]
    }
   ],
   "source": [
    "import testcreator\n",
    "import tomllib\n",
    "import logging,os,errno\n",
    "\n",
    "if not os.path.exists(f'{os.path.expanduser(\"~\")}/.toolparametriser/'):\n",
    "    os.makedirs(f'{os.path.expanduser(\"~\")}/.toolparametriser/')\n",
    "\n",
    "config_path=\"/vast/scratch/users/iskander.j/ToolParametriser/examples/configDiaNN_lib.toml\"\n",
    "if not os.path.exists(config_path):\n",
    "    logging.fatal(\"Config file does not exit\")\n",
    "    raise FileNotFoundError(errno.ENOENT, os.strerror(errno.ENOENT), config_path)\n",
    "        \n",
    "with open(config_path, \"rb\") as f:\n",
    "    config = tomllib.load(f)   \n",
    "    #print(config)\n",
    "\n",
    "d=testcreator.DiaNNTester(config=config)\n",
    "d.run_test(usetmpl=False)"
   ]
  },
  {
   "cell_type": "code",
   "execution_count": 2,
   "metadata": {},
   "outputs": [
    {
     "data": {
      "text/plain": [
       "{'input': {'type': 'dir',\n",
       "  'path': '/vast/projects/RCP/benchmarking/DiaNN/P4025/*.d',\n",
       "  'ext': '*.d'},\n",
       " 'extra': [{'name': 'fasta',\n",
       "   'path': '/vast/projects/RCP/benchmarking/DiaNN/P4025/Human_Proteome_reviewed_May2021.fasta'},\n",
       "  {'name': 'tsv',\n",
       "   'path': '/vast/projects/RCP/benchmarking/DiaNN/P4025/library.tsv'}],\n",
       " 'output': {'path': '/vast/scratch/users/iskander.j/Diann_lib'},\n",
       " 'jobs': {'num_reps': 1,\n",
       "  'params_path': '/vast/scratch/users/iskander.j/ToolParametriser/examples/DiaNNbenchmarking-profiles.csv',\n",
       "  'tool_type': 'DiaNN',\n",
       "  'run_type': 'lib',\n",
       "  'email': 'iskander.j@wehi.edu.au'}}"
      ]
     },
     "execution_count": 2,
     "metadata": {},
     "output_type": "execute_result"
    }
   ],
   "source": [
    "config"
   ]
  },
  {
   "cell_type": "code",
   "execution_count": null,
   "metadata": {},
   "outputs": [],
   "source": [
    "from string import Template\n",
    "with open('/home/users/allstaff/iskander.j/.toolparametriser/MQtemplate.tmpl', 'r') as f:\n",
    "    src = Template(f.read())\n",
    "    #result = src.substitute(d)\n",
    "    print(src.template)\n",
    "\n",
    "  \n",
    "# Substitute value of x in above template\n",
    "#print (t.substitute({'x' : 1}))"
   ]
  },
  {
   "cell_type": "code",
   "execution_count": null,
   "metadata": {},
   "outputs": [],
   "source": [
    "next(item['path'] for item in config[\"extra\"] if item[\"name\"] == \"fasta\")"
   ]
  }
 ],
 "metadata": {
  "kernelspec": {
   "display_name": "Python 3.11.0 ('py3_11')",
   "language": "python",
   "name": "python3"
  },
  "language_info": {
   "codemirror_mode": {
    "name": "ipython",
    "version": 3
   },
   "file_extension": ".py",
   "mimetype": "text/x-python",
   "name": "python",
   "nbconvert_exporter": "python",
   "pygments_lexer": "ipython3",
   "version": "3.11.0"
  },
  "vscode": {
   "interpreter": {
    "hash": "9cfd231cc03d0882ba851abf526d579e6914ecb3d23de74c525c11625872444e"
   }
  }
 },
 "nbformat": 4,
 "nbformat_minor": 2
}
