{
 "cells": [
  {
   "cell_type": "code",
   "execution_count": null,
   "metadata": {},
   "outputs": [],
   "source": [
    "import testcreator\n",
    "import tomllib\n",
    "import logging,os,errno\n",
    "\n",
    "if not os.path.exists(f'{os.path.expanduser(\"~\")}/.toolparametriser/'):\n",
    "    os.makedirs(f'{os.path.expanduser(\"~\")}/.toolparametriser/')\n",
    "\n",
    "config_path=\"/vast/scratch/users/iskander.j/ToolParametriser/examples/configMQ.toml\"\n",
    "if not os.path.exists(config_path):\n",
    "    logging.fatal(\"Config file does not exit\")\n",
    "    raise FileNotFoundError(errno.ENOENT, os.strerror(errno.ENOENT), config_path)\n",
    "        \n",
    "with open(config_path, \"rb\") as f:\n",
    "    config = tomllib.load(f)   \n",
    "    #print(config)\n",
    "\n",
    "mq=testcreator.MQTester(config=config)\n",
    "mq.run_test(usetmpl=False)"
   ]
  },
  {
   "cell_type": "code",
   "execution_count": 1,
   "metadata": {},
   "outputs": [
    {
     "name": "stdout",
     "output_type": "stream",
     "text": [
      "Validated\n",
      "/vast/scratch/users/iskander.j/Diann_lib_20230203000343/repo-D-1-20230203000343/P4025_30min_B2_1_1_5902.d --f /vast/scratch/users/iskander.j/Diann_lib_20230203000343/repo-D-1-20230203000343/P4025_30min_B3_1_1_5903.d --f /vast/scratch/users/iskander.j/Diann_lib_20230203000343/repo-D-1-20230203000343/P4025_30min_B5_1_1_5905.d\n",
      "{'partition': 'regular', 'jobname': 'D-1', 'numfiles': '3', 'cpuspertask': '2', 'mem': '1', 'threads': '2', 'timelimit': '4:00:00', 'constraint': 'Skylake', 'inputfiles': '/vast/scratch/users/iskander.j/Diann_lib_20230203000343/repo-D-1-20230203000343/P4025_30min_B2_1_1_5902.d --f /vast/scratch/users/iskander.j/Diann_lib_20230203000343/repo-D-1-20230203000343/P4025_30min_B3_1_1_5903.d --f /vast/scratch/users/iskander.j/Diann_lib_20230203000343/repo-D-1-20230203000343/P4025_30min_B5_1_1_5905.d'}\n"
     ]
    },
    {
     "ename": "InvalidConfigObject",
     "evalue": "Config object is not valid, or have missing fields. See logs in ~/.toolparametriser/",
     "output_type": "error",
     "traceback": [
      "\u001b[0;31m---------------------------------------------------------------------------\u001b[0m",
      "\u001b[0;31mStopIteration\u001b[0m                             Traceback (most recent call last)",
      "File \u001b[0;32m/vast/scratch/users/iskander.j/ToolParametriser/ToolParametriser/testcreator.py:291\u001b[0m, in \u001b[0;36mDiaNNTester.get_tmpl_values\u001b[0;34m(self, parameters)\u001b[0m\n\u001b[1;32m    290\u001b[0m \u001b[39mtry\u001b[39;00m:\n\u001b[0;32m--> 291\u001b[0m     params[\u001b[39m'\u001b[39m\u001b[39mfastafile\u001b[39m\u001b[39m'\u001b[39m]\u001b[39m=\u001b[39m\u001b[39mnext\u001b[39;49m(item[\u001b[39m'\u001b[39;49m\u001b[39mpath\u001b[39;49m\u001b[39m'\u001b[39;49m] \u001b[39mfor\u001b[39;49;00m item \u001b[39min\u001b[39;49;00m \u001b[39mself\u001b[39;49m\u001b[39m.\u001b[39;49mConfig[\u001b[39m\"\u001b[39;49m\u001b[39mextra\u001b[39;49m\u001b[39m\"\u001b[39;49m] \u001b[39mif\u001b[39;49;00m item[\u001b[39m\"\u001b[39;49m\u001b[39mname\u001b[39;49m\u001b[39m\"\u001b[39;49m] \u001b[39m==\u001b[39;49m \u001b[39m\"\u001b[39;49m\u001b[39mfasta\u001b[39;49m\u001b[39m\"\u001b[39;49m)\n\u001b[1;32m    292\u001b[0m \u001b[39mexcept\u001b[39;00m:\n",
      "\u001b[0;31mStopIteration\u001b[0m: ",
      "\nDuring handling of the above exception, another exception occurred:\n",
      "\u001b[0;31mInvalidConfigObject\u001b[0m                       Traceback (most recent call last)",
      "Cell \u001b[0;32mIn [1], line 18\u001b[0m\n\u001b[1;32m     15\u001b[0m     \u001b[38;5;66;03m#print(config)\u001b[39;00m\n\u001b[1;32m     17\u001b[0m mq\u001b[38;5;241m=\u001b[39mtestcreator\u001b[38;5;241m.\u001b[39mDiaNNTester(config\u001b[38;5;241m=\u001b[39mconfig)\n\u001b[0;32m---> 18\u001b[0m \u001b[43mmq\u001b[49m\u001b[38;5;241;43m.\u001b[39;49m\u001b[43mrun_test\u001b[49m\u001b[43m(\u001b[49m\u001b[43musetmpl\u001b[49m\u001b[38;5;241;43m=\u001b[39;49m\u001b[38;5;28;43;01mFalse\u001b[39;49;00m\u001b[43m)\u001b[49m\n",
      "File \u001b[0;32m/vast/scratch/users/iskander.j/ToolParametriser/ToolParametriser/testcreator.py:128\u001b[0m, in \u001b[0;36mAbstractTester.run_test\u001b[0;34m(self, usetmpl)\u001b[0m\n\u001b[1;32m    126\u001b[0m \u001b[39mif\u001b[39;00m (\u001b[39mnot\u001b[39;00m os\u001b[39m.\u001b[39mpath\u001b[39m.\u001b[39mexists(\u001b[39mself\u001b[39m\u001b[39m.\u001b[39mtmplfile)) \u001b[39mor\u001b[39;00m (\u001b[39mnot\u001b[39;00m usetmpl):\n\u001b[1;32m    127\u001b[0m     \u001b[39mself\u001b[39m\u001b[39m.\u001b[39mcreate_jobscript_template()\n\u001b[0;32m--> 128\u001b[0m \u001b[39mself\u001b[39;49m\u001b[39m.\u001b[39;49mrun(runID,parameters)\n\u001b[1;32m    129\u001b[0m \u001b[39mwith\u001b[39;00m \u001b[39mopen\u001b[39m(os\u001b[39m.\u001b[39mpath\u001b[39m.\u001b[39mjoin(\u001b[39mself\u001b[39m\u001b[39m.\u001b[39mConfig[\u001b[39m\"\u001b[39m\u001b[39mOutput_path\u001b[39m\u001b[39m\"\u001b[39m],\u001b[39m'\u001b[39m\u001b[39mconfig.json\u001b[39m\u001b[39m'\u001b[39m), \u001b[39m'\u001b[39m\u001b[39mw\u001b[39m\u001b[39m'\u001b[39m) \u001b[39mas\u001b[39;00m cfile:\n\u001b[1;32m    130\u001b[0m     cfile\u001b[39m.\u001b[39mwrite(json\u001b[39m.\u001b[39mdumps(\u001b[39mself\u001b[39m\u001b[39m.\u001b[39mConfig))\n",
      "File \u001b[0;32m/vast/scratch/users/iskander.j/ToolParametriser/ToolParametriser/testcreator.py:243\u001b[0m, in \u001b[0;36mDiaNNTester.run\u001b[0;34m(self, runID, parameters)\u001b[0m\n\u001b[1;32m    240\u001b[0m parameters[\u001b[39m'\u001b[39m\u001b[39minputfiles\u001b[39m\u001b[39m'\u001b[39m]\u001b[39m=\u001b[39m\u001b[39m'\u001b[39m\u001b[39m --f \u001b[39m\u001b[39m'\u001b[39m\u001b[39m.\u001b[39mjoin(\u001b[39mself\u001b[39m\u001b[39m.\u001b[39mget_input_files(runID\u001b[39m=\u001b[39mrunID))\n\u001b[1;32m    241\u001b[0m \u001b[39mprint\u001b[39m(parameters[\u001b[39m'\u001b[39m\u001b[39minputfiles\u001b[39m\u001b[39m'\u001b[39m])\n\u001b[0;32m--> 243\u001b[0m \u001b[39mself\u001b[39;49m\u001b[39m.\u001b[39;49mrun_jobscript(parameters,runID)\n\u001b[1;32m    244\u001b[0m \u001b[39mprint\u001b[39m(\u001b[39m\"\u001b[39m\u001b[39mDiaNN created and run\u001b[39m\u001b[39m\"\u001b[39m)\n",
      "File \u001b[0;32m/vast/scratch/users/iskander.j/ToolParametriser/ToolParametriser/testcreator.py:67\u001b[0m, in \u001b[0;36mAbstractTester.run_jobscript\u001b[0;34m(self, parameters, runID)\u001b[0m\n\u001b[1;32m     65\u001b[0m \u001b[39mprint\u001b[39m(parameters)\n\u001b[1;32m     66\u001b[0m \u001b[39m#Prepare values for tmpl\u001b[39;00m\n\u001b[0;32m---> 67\u001b[0m params\u001b[39m=\u001b[39m\u001b[39mself\u001b[39;49m\u001b[39m.\u001b[39;49mget_tmpl_values(parameters)\n\u001b[1;32m     69\u001b[0m \u001b[39m##Substitute Tmpl \u001b[39;00m\n\u001b[1;32m     70\u001b[0m \u001b[39mwith\u001b[39;00m \u001b[39mopen\u001b[39m(\u001b[39mself\u001b[39m\u001b[39m.\u001b[39mtmplfile, \u001b[39m'\u001b[39m\u001b[39mr\u001b[39m\u001b[39m'\u001b[39m) \u001b[39mas\u001b[39;00m f:\n",
      "File \u001b[0;32m/vast/scratch/users/iskander.j/ToolParametriser/ToolParametriser/testcreator.py:294\u001b[0m, in \u001b[0;36mDiaNNTester.get_tmpl_values\u001b[0;34m(self, parameters)\u001b[0m\n\u001b[1;32m    292\u001b[0m \u001b[39mexcept\u001b[39;00m:\n\u001b[1;32m    293\u001b[0m     logging\u001b[39m.\u001b[39mfatal(\u001b[39m\"\u001b[39m\u001b[39mfasta file not specified in extra section of config file\u001b[39m\u001b[39m\"\u001b[39m)\n\u001b[0;32m--> 294\u001b[0m     \u001b[39mraise\u001b[39;00m InvalidConfigObject\n\u001b[1;32m    297\u001b[0m \u001b[39mreturn\u001b[39;00m params\n",
      "\u001b[0;31mInvalidConfigObject\u001b[0m: Config object is not valid, or have missing fields. See logs in ~/.toolparametriser/"
     ]
    }
   ],
   "source": [
    "import testcreator\n",
    "import tomllib\n",
    "import logging,os,errno\n",
    "\n",
    "if not os.path.exists(f'{os.path.expanduser(\"~\")}/.toolparametriser/'):\n",
    "    os.makedirs(f'{os.path.expanduser(\"~\")}/.toolparametriser/')\n",
    "\n",
    "config_path=\"/vast/scratch/users/iskander.j/ToolParametriser/examples/configDiaNN_lib.toml\"\n",
    "if not os.path.exists(config_path):\n",
    "    logging.fatal(\"Config file does not exit\")\n",
    "    raise FileNotFoundError(errno.ENOENT, os.strerror(errno.ENOENT), config_path)\n",
    "        \n",
    "with open(config_path, \"rb\") as f:\n",
    "    config = tomllib.load(f)   \n",
    "    #print(config)\n",
    "\n",
    "mq=testcreator.DiaNNTester(config=config)\n",
    "mq.run_test(usetmpl=False)"
   ]
  },
  {
   "cell_type": "code",
   "execution_count": null,
   "metadata": {},
   "outputs": [],
   "source": [
    "config"
   ]
  },
  {
   "cell_type": "code",
   "execution_count": null,
   "metadata": {},
   "outputs": [],
   "source": [
    "from string import Template\n",
    "with open('/home/users/allstaff/iskander.j/.toolparametriser/MQtemplate.tmpl', 'r') as f:\n",
    "    src = Template(f.read())\n",
    "    #result = src.substitute(d)\n",
    "    print(src.template)\n",
    "\n",
    "  \n",
    "# Substitute value of x in above template\n",
    "#print (t.substitute({'x' : 1}))"
   ]
  },
  {
   "cell_type": "code",
   "execution_count": null,
   "metadata": {},
   "outputs": [],
   "source": [
    "next(item['path'] for item in config[\"extra\"] if item[\"name\"] == \"fasta\")"
   ]
  }
 ],
 "metadata": {
  "kernelspec": {
   "display_name": "Python 3.11.0 ('py3_11')",
   "language": "python",
   "name": "python3"
  },
  "language_info": {
   "codemirror_mode": {
    "name": "ipython",
    "version": 3
   },
   "file_extension": ".py",
   "mimetype": "text/x-python",
   "name": "python",
   "nbconvert_exporter": "python",
   "pygments_lexer": "ipython3",
   "version": "3.11.0"
  },
  "vscode": {
   "interpreter": {
    "hash": "9cfd231cc03d0882ba851abf526d579e6914ecb3d23de74c525c11625872444e"
   }
  }
 },
 "nbformat": 4,
 "nbformat_minor": 2
}
