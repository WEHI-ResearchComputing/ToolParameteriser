{
 "cells": [
  {
   "cell_type": "code",
   "execution_count": 3,
   "metadata": {
    "scrolled": true
   },
   "outputs": [
    {
     "name": "stdout",
     "output_type": "stream",
     "text": [
      "{'input': {'path': '/vast/projects/RCP/benchmarking/MQ/P4023/*.d'}, 'extra': [{'name': 'fasta', 'path': '/vast/projects/RCP/benchmarking/MQ/P4023/Human_Proteome_reviewed_May2021.fasta'}, {'name': 'xml', 'path': '/vast/projects/RCP/benchmarking/MQ/P4023/mqpar.xml'}], 'output': {'path': '/vast/scratch/users/iskander.j/MQ'}, 'jobs': {'num_reps': 1, 'params_path': '/vast/scratch/users/iskander.j/ToolParametriser/examples/MQbenchmarking-profiles.csv', 'tool_type': 'MQ'}}\n"
     ]
    }
   ],
   "source": [
    "import random\n",
    "#from bmjob import GenericJob,MaxQuantJob,DiaNNJob\n",
    "import benchmark  \n",
    "\n",
    "from datetime import datetime\n",
    "import tomllib\n",
    "\n",
    "\n",
    "\n",
    "config_path=\"/vast/scratch/users/iskander.j/ToolParametriser/examples/config.toml\"\n",
    "#if not os.path.exists(config_path):\n",
    "#    logging.fatal(\"Config file does not exit\")\n",
    "#    raise FileNotFoundError(errno.ENOENT, os.strerror(errno.ENOENT), config_path)\n",
    "        \n",
    "with open(config_path, \"rb\") as f:\n",
    "    config = tomllib.load(f)   \n",
    "    print(config)\n",
    "    #benchmark.benchmark(benchmark.MQBenchmarkingTool(config))\n"
   ]
  },
  {
   "cell_type": "code",
   "execution_count": 1,
   "metadata": {},
   "outputs": [
    {
     "name": "stdout",
     "output_type": "stream",
     "text": [
      "{'input': {'type': 'file', 'path': '/vast/projects/RCP/benchmarking/MQ/P4023/*.d'}, 'extra': [{'name': 'fasta', 'path': '/vast/projects/RCP/benchmarking/MQ/P4023/Human_Proteome_reviewed_May2021.fasta'}, {'name': 'xml', 'path': '/vast/projects/RCP/benchmarking/MQ/P4023/mqpar.xml'}], 'output': {'path': '/vast/scratch/users/iskander.j/MQ'}, 'jobs': {'num_reps': 1, 'params_path': '/vast/scratch/users/iskander.j/ToolParametriser/examples/MQbenchmarking-profiles.csv', 'tool_type': 'MQ'}}\n",
      "Validated\n",
      "['/vast/projects/RCP/benchmarking/MQ/P4023/P4023_10_1_1_5847.d', '/vast/projects/RCP/benchmarking/MQ/P4023/P4023_11_1_1_5820.d', '/vast/projects/RCP/benchmarking/MQ/P4023/P4023_12_1_1_5852.d', '/vast/projects/RCP/benchmarking/MQ/P4023/P4023_13_1_1_5821.d', '/vast/projects/RCP/benchmarking/MQ/P4023/P4023_14_1_1_5827.d']\n",
      "['/vast/projects/RCP/benchmarking/MQ/P4023/P4023_10_1_1_5847.d', '/vast/projects/RCP/benchmarking/MQ/P4023/P4023_12_1_1_5852.d']\n"
     ]
    }
   ],
   "source": [
    "import testcreator\n",
    "import tomllib\n",
    "import logging,os,errno\n",
    "\n",
    "if not os.path.exists(f'{os.path.expanduser(\"~\")}/.toolparametriser/'):\n",
    "    os.makedirs(f'{os.path.expanduser(\"~\")}/.toolparametriser/')\n",
    "FORMAT = '[%(asctime)s]:%(levelname)s:%(name)s:%(message)s'\n",
    "logging.basicConfig(format=FORMAT,filename=f'{os.path.expanduser(\"~\")}/.toolparametriser/debug.log', \n",
    "                    encoding='utf-8', level=logging.DEBUG)\n",
    "\n",
    "config_path=\"/vast/scratch/users/iskander.j/ToolParametriser/examples/config.toml\"\n",
    "if not os.path.exists(config_path):\n",
    "    logging.fatal(\"Config file does not exit\")\n",
    "    raise FileNotFoundError(errno.ENOENT, os.strerror(errno.ENOENT), config_path)\n",
    "        \n",
    "with open(config_path, \"rb\") as f:\n",
    "    config = tomllib.load(f)   \n",
    "    print(config)\n",
    "\n",
    "mq=testcreator.MQTester(config=config)\n",
    "mq.run_test()"
   ]
  },
  {
   "cell_type": "code",
   "execution_count": 5,
   "metadata": {},
   "outputs": [
    {
     "data": {
      "text/plain": [
       "[{'name': 'fasta',\n",
       "  'path': '/vast/projects/RCP/benchmarking/MQ/P4023/Human_Proteome_reviewed_May2021.fasta'},\n",
       " {'name': 'xml', 'path': '/vast/projects/RCP/benchmarking/MQ/P4023/mqpar.xml'}]"
      ]
     },
     "execution_count": 5,
     "metadata": {},
     "output_type": "execute_result"
    }
   ],
   "source": [
    "config['extra']"
   ]
  },
  {
   "cell_type": "code",
   "execution_count": null,
   "metadata": {},
   "outputs": [],
   "source": []
  }
 ],
 "metadata": {
  "kernelspec": {
   "display_name": "Python 3.11.0 ('py3_11')",
   "language": "python",
   "name": "python3"
  },
  "language_info": {
   "codemirror_mode": {
    "name": "ipython",
    "version": 3
   },
   "file_extension": ".py",
   "mimetype": "text/x-python",
   "name": "python",
   "nbconvert_exporter": "python",
   "pygments_lexer": "ipython3",
   "version": "3.11.0"
  },
  "vscode": {
   "interpreter": {
    "hash": "9cfd231cc03d0882ba851abf526d579e6914ecb3d23de74c525c11625872444e"
   }
  }
 },
 "nbformat": 4,
 "nbformat_minor": 2
}
