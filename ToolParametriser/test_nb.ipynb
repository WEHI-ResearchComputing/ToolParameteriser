{
 "cells": [
  {
   "cell_type": "code",
   "execution_count": 1,
   "metadata": {
    "scrolled": true
   },
   "outputs": [
    {
     "name": "stdout",
     "output_type": "stream",
     "text": [
      "App: Launched with the MQBenchmarkingTool.\n",
      "benchmarkingtoolcreator runBenchmarking\n"
     ]
    }
   ],
   "source": [
    "import random\n",
    "from bmjob import GenericJob,MaxQuantJob,DiaNNJob\n",
    "import benchmark  \n",
    "\n",
    "from datetime import datetime\n",
    "\n",
    "InputFiles_path = '/vast/projects/RCP/benchmarking/MQ/P4023' \n",
    "BenchmarkingCSVFile_path = '/vast/scratch/users/iskander.j/ToolParametriser/examples/MQbenchmarking-profiles.csv' \n",
    "storage_path = '/vast/scratch/users/iskander.j/MQ' \n",
    "Number_of_jobs_repetition = 2 \n",
    "BenchTool=1\n",
    "if BenchTool == 1:\n",
    "    print(\"App: Launched with the MQBenchmarkingTool.\")\n",
    "    benchmark.benchmark(benchmark.MQBenchmarkingTool(BenchmarkingCSVFile_path, InputFiles_path, storage_path, Number_of_jobs_repetition))\n",
    "elif BenchTool == 2:\n",
    "    print(\"App: Launched with the DiaNNBenchmarkingTool.\")\n",
    "    benchmark.benchmark(benchmark.DiaNNBenchmarkingTool(BenchmarkingCSVFile_path, InputFiles_path, storage_path, Number_of_jobs_repetition))\n",
    "elif BenchTool == 3:\n",
    "    print(\"App: Launched with the GenericBenchmarkingTool.\")\n",
    "    benchmark.benchmark(benchmark.GenericBenchmarkingTool(BenchmarkingCSVFile_path, InputFiles_path, storage_path, Number_of_jobs_repetition))\n",
    "else:\n",
    "    print(\"Selected option is invalid.\")\n"
   ]
  }
 ],
 "metadata": {
  "kernelspec": {
   "display_name": "Python 3.11.0 ('py3_11')",
   "language": "python",
   "name": "python3"
  },
  "language_info": {
   "codemirror_mode": {
    "name": "ipython",
    "version": 3
   },
   "file_extension": ".py",
   "mimetype": "text/x-python",
   "name": "python",
   "nbconvert_exporter": "python",
   "pygments_lexer": "ipython3",
   "version": "3.11.0"
  },
  "vscode": {
   "interpreter": {
    "hash": "9cfd231cc03d0882ba851abf526d579e6914ecb3d23de74c525c11625872444e"
   }
  }
 },
 "nbformat": 4,
 "nbformat_minor": 2
}
