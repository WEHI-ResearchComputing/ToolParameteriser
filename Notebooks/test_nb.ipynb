{
 "cells": [
  {
   "cell_type": "code",
   "execution_count": 1,
   "metadata": {},
   "outputs": [
    {
     "ename": "SyntaxError",
     "evalue": "invalid syntax (<ipython-input-1-8edf1fee0853>, line 2)",
     "output_type": "error",
     "traceback": [
      "\u001b[0;36m  File \u001b[0;32m\"<ipython-input-1-8edf1fee0853>\"\u001b[0;36m, line \u001b[0;32m2\u001b[0m\n\u001b[0;31m    from ../ToolParametriser import *\u001b[0m\n\u001b[0m           ^\u001b[0m\n\u001b[0;31mSyntaxError\u001b[0m\u001b[0;31m:\u001b[0m invalid syntax\n"
     ]
    }
   ],
   "source": [
    "\n",
    "import random\n",
    "from ..ToolParametriser import *\n",
    "\n",
    "from datetime import datetime\n",
    "\n",
    "from absl import app\n",
    "from absl import flags\n"
   ]
  },
  {
   "cell_type": "code",
   "execution_count": 3,
   "metadata": {},
   "outputs": [],
   "source": []
  },
  {
   "cell_type": "code",
   "execution_count": 4,
   "metadata": {},
   "outputs": [
    {
     "name": "stdout",
     "output_type": "stream",
     "text": [
      "in benchmarking tool creator\n"
     ]
    }
   ],
   "source": [
    "class BenchmarkingToolCreator(ABC):\n",
    "    print(\"in benchmarking tool creator\")\n",
    "    \"\"\"\n",
    "    The BenchmarkingToolCreator class declares the factory method that is supposed to return an\n",
    "    object of a Job class. The BenchmarkingToolCreator's subclasses usually provide the\n",
    "    implementation of this method.\n",
    "    \"\"\"\n",
    "\n",
    "    def __init__(\n",
    "        self,\n",
    "        BenchmarkingCSVFile_path,\n",
    "        InputFiles_path,\n",
    "        storage_path,\n",
    "        Number_of_jobs_repetition,\n",
    "    ):\n",
    "        self.BenchmarkingCSVFile_path = BenchmarkingCSVFile_path\n",
    "        self.InputFiles_path = InputFiles_path\n",
    "        self.storage_path = storage_path\n",
    "        self.Number_of_jobs_repetition = Number_of_jobs_repetition\n",
    "\n",
    "    @abstractmethod\n",
    "    def factory_method_create_job(self):\n",
    "        \"\"\"\n",
    "        Note that the BenchmarkingToolCreator may also provide some default implementation of\n",
    "        the factory method.\n",
    "        \"\"\"\n",
    "        pass\n",
    "\n",
    "    def runBenchmarking(self) -> str:\n",
    "        print(\"benchmarkingtoolcreator runBenchmarking\")\n",
    "        \n",
    "        \"\"\"\n",
    "        Also note that, despite its name, the BenchmarkingToolCreator's primary responsibility\n",
    "        is not creating jobs. Usually, it contains some core business logic\n",
    "        that relies on Job objects, returned by the factory method.\n",
    "        Subclasses can indirectly change that business logic by overriding the\n",
    "        factory method and returning a different type of job from it.\n",
    "        \"\"\"\n",
    "\n",
    "        # Call the factory method to create a Job object.\n",
    "        job = self.factory_method_create_job()\n",
    "        # Now, use the job.\n",
    "\n",
    "        # TODO: Inside of this method will be our core business logic\n",
    "        \n",
    "        # current date and time\n",
    "        now = datetime.now()\n",
    "\n",
    "        # ID to identify each Benchmarking executed\n",
    "        ExecutionID = now.strftime(\"%Y%m%d%H%M%S\")\n",
    "\n",
    "        # Storing job_parameters of CSV file\n",
    "        job_parameters = job.readBenchmarkingProfiles()\n",
    "\n",
    "        # Specific files Identification (.tsv, .d, .xml, .fasta)\n",
    "        specificInputFiles = job.identifySpecificInputFiles()\n",
    "\n",
    "        # Let's run the job according to the number of repetition\n",
    "        for parameters in job_parameters:\n",
    "\n",
    "            for _ in range(0, self.Number_of_jobs_repetition):\n",
    "                now = datetime.now()  # current date and time\n",
    "                JobExecutionID = now.strftime(\"%Y%m%d%H%M%S\")\n",
    "                running_job_path = f\"{self.storage_path}repo-{parameters['job-name']}-{JobExecutionID}/\"\n",
    "\n",
    "                job.createRepository(running_job_path)\n",
    "\n",
    "                # Copy samples files k = number of input files to randomly select\n",
    "                sample_files = random.sample(specificInputFiles[\"original_files\"], k=int(parameters[\"NumFiles\"]))\n",
    "                specificInputFiles[\"sample_files\"] = sample_files\n",
    "\n",
    "                for sample_file_path in specificInputFiles[\"sample_files\"]:\n",
    "                    name_of_folder = sample_file_path.split(\"/\")[-1]\n",
    "                    job.copyInputFiles(sample_file_path, running_job_path + name_of_folder)\n",
    "\n",
    "                # Copy ONLY specific input files such (.tsv, .xml, .fasta)\n",
    "                job.copySpecificInputFiles(specificInputFiles, running_job_path)\n",
    "        \n",
    "                # Create and Execute the SBatch File\n",
    "\n",
    "                job.createExecutableBatchFile(\n",
    "                    parameters,\n",
    "                    running_job_path,\n",
    "                    specificInputFiles,\n",
    "                    ExecutionID,\n",
    "                )\n",
    "\n",
    "        \n",
    "        # result = f\"BenchmarkingToolCreator: The same creator's code has just worked with {job.readBenchmarkingProfiles()}\"\n",
    "        result = \"BenchMe has finished running\"\n",
    "\n",
    "        return result\n"
   ]
  },
  {
   "cell_type": "code",
   "execution_count": 8,
   "metadata": {},
   "outputs": [
    {
     "name": "stdout",
     "output_type": "stream",
     "text": [
      "In generic benchmarking tool with the mactory method create job\n"
     ]
    }
   ],
   "source": [
    "\"\"\"\n",
    "Concrete Creators override the factory method in order to change the resulting\n",
    "product's type.\n",
    "\"\"\"\n",
    "\n",
    "class MQBenchmarkingTool(BenchmarkingToolCreator):\n",
    "    \"\"\"\n",
    "    Note that the signature of the method still uses the abstract job type,\n",
    "    even though the concrete job is actually returned from the method. This\n",
    "    way the BenchmarkingToolCreator can stay independent of concrete job classes.\n",
    "    \"\"\"\n",
    "    def __init__(self,BenchmarkingCSVFile_path, InputFiles_path, storage_path, Number_of_jobs_repetition,):\n",
    "        super().__init__(BenchmarkingCSVFile_path, InputFiles_path, storage_path, Number_of_jobs_repetition)\n",
    "\n",
    "        # TODO: Variables needs to be initialize\n",
    "        # Extract the list of Input filenames: .Fasta, .XML and .d\n",
    "        # original_files = glob.glob(InputFiles_path + \"*.d\", recursive=False)\n",
    "\n",
    "        # Create a Dictionary to store Input Files Orderly\n",
    "        # MaxQuantInputFiles = {}\n",
    "        # MaxQuantInputFiles[\"fasta_file\"] = glob.glob(InputFiles_path + \"*.fasta\", recursive=False)[0]\n",
    "        # MaxQuantInputFiles[\"xml_file\"] = glob.glob(InputFiles_path + \"*.xml\", recursive=False)[0]\n",
    "\n",
    "        # self.sample_files = sample_files\n",
    "        # self.xml_file_path = xml_file_path\n",
    "        # self.numthreads = numthreads\n",
    "        \n",
    "    def factory_method_create_job(self) -> Job:\n",
    "        return MaxQuantJob(self.BenchmarkingCSVFile_path,self.InputFiles_path,self.storage_path,self.Number_of_jobs_repetition )\n",
    "\n",
    "\n",
    "class DiaNNBenchmarkingTool(BenchmarkingToolCreator):\n",
    "    def __init__(self,BenchmarkingCSVFile_path, InputFiles_path, storage_path, Number_of_jobs_repetition):\n",
    "        super().__init__(BenchmarkingCSVFile_path, InputFiles_path, storage_path, Number_of_jobs_repetition)\n",
    "        print(\"diannbenchmarkingtook def init\")\n",
    "        \n",
    "    def factory_method_create_job(self) -> Job:\n",
    "        print(\"diannbenchmarkingtook def factory method create job\")\n",
    "        \n",
    "        return DiaNNJob(self.BenchmarkingCSVFile_path,self.InputFiles_path,self.storage_path,self.Number_of_jobs_repetition)\n",
    "    \n",
    "class GenericBenchmarkingTool(BenchmarkingToolCreator):\n",
    "    print(\"In generic benchmarking tool with the mactory method create job\")\n",
    "    def __init__(self,BenchmarkingCSVFile_path, InputFiles_path, storage_path, Number_of_jobs_repetition):\n",
    "        super().__init__(BenchmarkingCSVFile_path, InputFiles_path, storage_path, Number_of_jobs_repetition)\n",
    "        \n",
    "    def factory_method_create_job(self) -> Job:\n",
    "        script_dir = input(\"Please enter the full directory of the location where the script is - \")\n",
    "        params = input(\"Please enter any extra parameters to add to the scipt when run - \")\n",
    "        return GenericJob(self.BenchmarkingCSVFile_path,self.InputFiles_path,self.storage_path,self.Number_of_jobs_repetition, script_dir, params)\n"
   ]
  },
  {
   "cell_type": "code",
   "execution_count": 6,
   "metadata": {},
   "outputs": [],
   "source": [
    "# TODO: Add this function to your diagram\n",
    "def client_code(creator: BenchmarkingToolCreator) -> None:\n",
    "    print(\"client code creator\")\n",
    "    \"\"\"\n",
    "    The client code works with an instance of a concrete creator, albeit through\n",
    "    its base interface. As long as the client keeps working with the creator via\n",
    "    the base interface, you can pass it any creator's subclass.\n",
    "    \"\"\"\n",
    "\n",
    "    print(\n",
    "            \n",
    "            f\"Client: I'm not aware of the creator's class, but it still works.\\n\"\n",
    "            f\"{creator.runBenchmarking()}\",\n",
    "            end=\"\",\n",
    "        )\n"
   ]
  },
  {
   "cell_type": "code",
   "execution_count": 7,
   "metadata": {
    "scrolled": true
   },
   "outputs": [
    {
     "ename": "KeyboardInterrupt",
     "evalue": "Interrupted by user",
     "output_type": "error",
     "traceback": [
      "\u001b[0;31m---------------------------------------------------------------------------\u001b[0m",
      "\u001b[0;31mKeyboardInterrupt\u001b[0m                         Traceback (most recent call last)",
      "Input \u001b[0;32mIn [7]\u001b[0m, in \u001b[0;36m<cell line: 2>\u001b[0;34m()\u001b[0m\n\u001b[1;32m      1\u001b[0m \u001b[38;5;66;03m# Welcoming message\u001b[39;00m\n\u001b[0;32m----> 2\u001b[0m BenchTool \u001b[38;5;241m=\u001b[39m \u001b[38;5;28;43minput\u001b[39;49m\u001b[43m(\u001b[49m\u001b[38;5;124;43m\"\u001b[39;49m\u001b[38;5;124;43mThanks for using BenchMe! Please select \u001b[39;49m\u001b[38;5;124;43m'\u001b[39;49m\u001b[38;5;124;43m1\u001b[39;49m\u001b[38;5;124;43m'\u001b[39;49m\u001b[38;5;124;43m if you want benchmark MQ, \u001b[39;49m\u001b[38;5;124;43m'\u001b[39;49m\u001b[38;5;124;43m2\u001b[39;49m\u001b[38;5;124;43m'\u001b[39;49m\u001b[38;5;124;43m for DiaNN, or \u001b[39;49m\u001b[38;5;124;43m'\u001b[39;49m\u001b[38;5;124;43m3\u001b[39;49m\u001b[38;5;124;43m'\u001b[39;49m\u001b[38;5;124;43m if you want a generic benchmark.\u001b[39;49m\u001b[38;5;124;43m\"\u001b[39;49m\u001b[43m)\u001b[49m\n\u001b[1;32m      4\u001b[0m InputFiles_path \u001b[38;5;241m=\u001b[39m \u001b[38;5;28minput\u001b[39m(\u001b[38;5;124m\"\u001b[39m\u001b[38;5;124mAbsolute path of input files (.d, .fasta, .tsv). I.E: \u001b[39m\u001b[38;5;124m'\u001b[39m\u001b[38;5;124m/stornext/HPCScratch/home/romano.h/Software-Projects/Local-Repositories/DiaNN/DiaNNFiles-Dataset/\u001b[39m\u001b[38;5;124m'\u001b[39m\u001b[38;5;124m\"\u001b[39m)\n\u001b[1;32m      5\u001b[0m BenchmarkingCSVFile_path \u001b[38;5;241m=\u001b[39m \u001b[38;5;28minput\u001b[39m(\u001b[38;5;124m\"\u001b[39m\u001b[38;5;124mName of CSV file with profiles for benchmarking. I.E: \u001b[39m\u001b[38;5;124m'\u001b[39m\u001b[38;5;124mbenchmarking-profiles.csv\u001b[39m\u001b[38;5;124m'\u001b[39m\u001b[38;5;124m\"\u001b[39m)\n",
      "File \u001b[0;32m/stornext/HPCScratch/home/bollands.c/.conda/envs/framework/lib/python3.10/site-packages/ipykernel/kernelbase.py:1075\u001b[0m, in \u001b[0;36mKernel.raw_input\u001b[0;34m(self, prompt)\u001b[0m\n\u001b[1;32m   1071\u001b[0m \u001b[38;5;28;01mif\u001b[39;00m \u001b[38;5;129;01mnot\u001b[39;00m \u001b[38;5;28mself\u001b[39m\u001b[38;5;241m.\u001b[39m_allow_stdin:\n\u001b[1;32m   1072\u001b[0m     \u001b[38;5;28;01mraise\u001b[39;00m StdinNotImplementedError(\n\u001b[1;32m   1073\u001b[0m         \u001b[38;5;124m\"\u001b[39m\u001b[38;5;124mraw_input was called, but this frontend does not support input requests.\u001b[39m\u001b[38;5;124m\"\u001b[39m\n\u001b[1;32m   1074\u001b[0m     )\n\u001b[0;32m-> 1075\u001b[0m \u001b[38;5;28;01mreturn\u001b[39;00m \u001b[38;5;28;43mself\u001b[39;49m\u001b[38;5;241;43m.\u001b[39;49m\u001b[43m_input_request\u001b[49m\u001b[43m(\u001b[49m\n\u001b[1;32m   1076\u001b[0m \u001b[43m    \u001b[49m\u001b[38;5;28;43mstr\u001b[39;49m\u001b[43m(\u001b[49m\u001b[43mprompt\u001b[49m\u001b[43m)\u001b[49m\u001b[43m,\u001b[49m\n\u001b[1;32m   1077\u001b[0m \u001b[43m    \u001b[49m\u001b[38;5;28;43mself\u001b[39;49m\u001b[38;5;241;43m.\u001b[39;49m\u001b[43m_parent_ident\u001b[49m\u001b[43m[\u001b[49m\u001b[38;5;124;43m\"\u001b[39;49m\u001b[38;5;124;43mshell\u001b[39;49m\u001b[38;5;124;43m\"\u001b[39;49m\u001b[43m]\u001b[49m\u001b[43m,\u001b[49m\n\u001b[1;32m   1078\u001b[0m \u001b[43m    \u001b[49m\u001b[38;5;28;43mself\u001b[39;49m\u001b[38;5;241;43m.\u001b[39;49m\u001b[43mget_parent\u001b[49m\u001b[43m(\u001b[49m\u001b[38;5;124;43m\"\u001b[39;49m\u001b[38;5;124;43mshell\u001b[39;49m\u001b[38;5;124;43m\"\u001b[39;49m\u001b[43m)\u001b[49m\u001b[43m,\u001b[49m\n\u001b[1;32m   1079\u001b[0m \u001b[43m    \u001b[49m\u001b[43mpassword\u001b[49m\u001b[38;5;241;43m=\u001b[39;49m\u001b[38;5;28;43;01mFalse\u001b[39;49;00m\u001b[43m,\u001b[49m\n\u001b[1;32m   1080\u001b[0m \u001b[43m\u001b[49m\u001b[43m)\u001b[49m\n",
      "File \u001b[0;32m/stornext/HPCScratch/home/bollands.c/.conda/envs/framework/lib/python3.10/site-packages/ipykernel/kernelbase.py:1120\u001b[0m, in \u001b[0;36mKernel._input_request\u001b[0;34m(self, prompt, ident, parent, password)\u001b[0m\n\u001b[1;32m   1117\u001b[0m             \u001b[38;5;28;01mbreak\u001b[39;00m\n\u001b[1;32m   1118\u001b[0m \u001b[38;5;28;01mexcept\u001b[39;00m \u001b[38;5;167;01mKeyboardInterrupt\u001b[39;00m:\n\u001b[1;32m   1119\u001b[0m     \u001b[38;5;66;03m# re-raise KeyboardInterrupt, to truncate traceback\u001b[39;00m\n\u001b[0;32m-> 1120\u001b[0m     \u001b[38;5;28;01mraise\u001b[39;00m \u001b[38;5;167;01mKeyboardInterrupt\u001b[39;00m(\u001b[38;5;124m\"\u001b[39m\u001b[38;5;124mInterrupted by user\u001b[39m\u001b[38;5;124m\"\u001b[39m) \u001b[38;5;28;01mfrom\u001b[39;00m \u001b[38;5;28mNone\u001b[39m\n\u001b[1;32m   1121\u001b[0m \u001b[38;5;28;01mexcept\u001b[39;00m \u001b[38;5;167;01mException\u001b[39;00m:\n\u001b[1;32m   1122\u001b[0m     \u001b[38;5;28mself\u001b[39m\u001b[38;5;241m.\u001b[39mlog\u001b[38;5;241m.\u001b[39mwarning(\u001b[38;5;124m\"\u001b[39m\u001b[38;5;124mInvalid Message:\u001b[39m\u001b[38;5;124m\"\u001b[39m, exc_info\u001b[38;5;241m=\u001b[39m\u001b[38;5;28;01mTrue\u001b[39;00m)\n",
      "\u001b[0;31mKeyboardInterrupt\u001b[0m: Interrupted by user"
     ]
    }
   ],
   "source": [
    "# Welcoming message\n",
    "BenchTool = input(\"Thanks for using BenchMe! Please select '1' if you want benchmark MQ, '2' for DiaNN, or '3' if you want a generic benchmark.\")\n",
    "\n",
    "InputFiles_path = input(\"Absolute path of input files (.d, .fasta, .tsv). I.E: '/stornext/HPCScratch/home/romano.h/Software-Projects/Local-Repositories/DiaNN/DiaNNFiles-Dataset/'\")\n",
    "BenchmarkingCSVFile_path = input(\"Name of CSV file with profiles for benchmarking. I.E: 'benchmarking-profiles.csv'\")\n",
    "storage_path = input(\"Absolute path of storage directory to save outputs. I.E: '/vast/scratch/users/romano.h/DiaNNBenchmarking/'\")\n",
    "Number_of_jobs_repetition = int(input(\"Number of times to run each benchmarking profile job. Default: 5 times\"))\n",
    "\n",
    "if BenchTool == '1':\n",
    "    print(\"App: Launched with the MQBenchmarkingTool.\")\n",
    "    client_code(MQBenchmarkingTool(BenchmarkingCSVFile_path, InputFiles_path, storage_path, Number_of_jobs_repetition))\n",
    "elif BenchTool == '2':\n",
    "    print(\"App: Launched with the DiaNNBenchmarkingTool.\")\n",
    "    client_code(DiaNNBenchmarkingTool(BenchmarkingCSVFile_path, InputFiles_path, storage_path, Number_of_jobs_repetition))\n",
    "elif BenchTool == '3':\n",
    "    print(\"App: Launched with the GenericBenchmarkingTool.\")\n",
    "    client_code(GenericBenchmarkingTool(BenchmarkingCSVFile_path, InputFiles_path, storage_path, Number_of_jobs_repetition))\n",
    "else:\n",
    "    print(\"I am sorry, the selected option is invalid.\")\n"
   ]
  },
  {
   "cell_type": "markdown",
   "metadata": {},
   "source": [
    "## This will need to be added/modified when migrating out of Notebooks"
   ]
  },
  {
   "cell_type": "code",
   "execution_count": null,
   "metadata": {},
   "outputs": [],
   "source": [
    "# TODO: Add this function to your diagram\n",
    "def main() -> None:\n",
    "    \"\"\"\n",
    "    The client code works with an instance of a concrete creator, albeit through\n",
    "    its base interface. As long as the client keeps working with the creator via\n",
    "    the base interface, you can pass it any creator's subclass.\n",
    "    \"\"\"\n",
    "\n",
    "    print(\"App: Launched with the MQBenchmarkingTool.\")\n",
    "    client_code(MQBenchmarkingTool())\n",
    "    print(\"\\n\")\n",
    "\n",
    "    print(\"App: Launched with the DiaNNBenchmarkingTool.\")\n",
    "    client_code(DiaNNBenchmarkingTool())\n",
    "\n",
    "    def client_code(creator: BenchmarkingToolCreator):\n",
    "\n",
    "        print(\n",
    "            f\"Client: I'm not aware of the creator's class, but it still works.\\n\"\n",
    "            f\"{creator.runBenchmarking()}\",\n",
    "            end=\"\",\n",
    "        )"
   ]
  },
  {
   "cell_type": "code",
   "execution_count": null,
   "metadata": {},
   "outputs": [],
   "source": [
    "FLAGS = flags.FLAGS\n",
    "flags.DEFINE_string(\"files\", None, \"Absolute path of Input DiaNN input files (.d, .fasta, .tsv). I.E: '/stornext/HPCScratch/home/romano.h/Software-Projects/Local-Repositories/DiaNN/DiaNNFiles-Dataset/'\")\n",
    "flags.DEFINE_string(\"profiles\", None, \"Name of CSV file with DiaNN Profiles for benchmarking. I.E: 'benchmarking-profiles.csv'\")\n",
    "flags.DEFINE_string(\"storage\", None, \"Absolute path of storage directory to save outputs. I.E: '/vast/scratch/users/romano.h/DiaNNBenchmarking/'\")\n",
    "flags.DEFINE_integer(\"repeat\", 5,\"Number of times to run each benchmarking profile job. Default: 5 times\")\n",
    "\n",
    "# Required flag.\n",
    "flags.mark_flag_as_required(\"files\")\n",
    "flags.mark_flag_as_required(\"profiles\")\n",
    "flags.mark_flag_as_required(\"storage\")"
   ]
  },
  {
   "cell_type": "code",
   "execution_count": null,
   "metadata": {},
   "outputs": [],
   "source": [
    "if __name__ == \"__main__\":\n",
    "    app.run(main)\n"
   ]
  },
  {
   "cell_type": "code",
   "execution_count": null,
   "metadata": {},
   "outputs": [],
   "source": []
  }
 ],
 "metadata": {
  "kernelspec": {
   "display_name": "Python (py_analysis)",
   "language": "python",
   "name": "py_analysis"
  },
  "language_info": {
   "codemirror_mode": {
    "name": "ipython",
    "version": 3
   },
   "file_extension": ".py",
   "mimetype": "text/x-python",
   "name": "python",
   "nbconvert_exporter": "python",
   "pygments_lexer": "ipython3",
   "version": "3.7.10"
  },
  "vscode": {
   "interpreter": {
    "hash": "9cfd231cc03d0882ba851abf526d579e6914ecb3d23de74c525c11625872444e"
   }
  }
 },
 "nbformat": 4,
 "nbformat_minor": 2
}
