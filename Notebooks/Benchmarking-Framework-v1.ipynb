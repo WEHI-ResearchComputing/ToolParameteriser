{
 "cells": [
  {
   "cell_type": "code",
   "execution_count": 2,
   "metadata": {},
   "outputs": [],
   "source": [
    "from abc import ABC, abstractmethod\n"
   ]
  },
  {
   "cell_type": "code",
   "execution_count": 3,
   "metadata": {},
   "outputs": [],
   "source": [
    "class Job(ABC):\n",
    "    \"\"\"\n",
    "    The Job interface declares the operations that all concrete jobs\n",
    "    must implement.\n",
    "    \"\"\"\n",
    "\n",
    "    @abstractmethod\n",
    "    def readBenchmarkingProfiles(self) -> str:\n",
    "        pass\n",
    "\n",
    "    @abstractmethod\n",
    "    def createRepository(self) -> str:\n",
    "        pass\n",
    "\n",
    "    @abstractmethod\n",
    "    def copyInputFiles(self) -> str:\n",
    "        pass\n",
    "\n",
    "    @abstractmethod\n",
    "    def createExecutableBatchFile(self) -> str:\n",
    "        pass\n",
    "\n",
    "\n",
    "\"\"\"\n",
    "Concrete Jobs provide various implementations of the Job interface.\n",
    "\"\"\"\n",
    "\n",
    "\n",
    "class MaxQuantJob(Job):\n",
    "\n",
    "    def readBenchmarkingProfiles(self) -> str:\n",
    "        return \"{Result of the MaxQuantJob: readBenchmarkingProfiles}\"\n",
    "\n",
    "    def createRepository(self) -> str:\n",
    "        return \"{Result of the MaxQuantJob: createRepository}\"\n",
    "\n",
    "    def copyInputFiles(self) -> str:\n",
    "        return \"{Result of the MaxQuantJob: copyInputFiles}\"\n",
    "\n",
    "    def createExecutableBatchFile(self) -> str:\n",
    "        return \"{Result of the MaxQuantJob: createExecutableBatchFile}\"\n",
    "\n",
    "    def updateXmlFile(self) -> str:\n",
    "        return \"{Result of the MaxQuantJob: updateXmlFile}\"\n",
    "\n",
    "\n",
    "class DiaNNJob(Job):\n",
    "\n",
    "    def readBenchmarkingProfiles(self) -> str:\n",
    "        return \"{Result of the DiaNNJob: readBenchmarkingProfiles}\"\n",
    "\n",
    "    def createRepository(self) -> str:\n",
    "        return \"{Result of the DiaNNJob: createRepository}\"\n",
    "\n",
    "    def copyInputFiles(self) -> str:\n",
    "        return \"{Result of the DiaNNJob: copyInputFiles}\"\n",
    "\n",
    "    def createExecutableBatchFile(self) -> str:\n",
    "        return \"{Result of the DiaNNJob: createExecutableBatchFile}\"\n"
   ]
  },
  {
   "cell_type": "code",
   "execution_count": 4,
   "metadata": {},
   "outputs": [],
   "source": [
    "class BenchmarkingToolCreator(ABC):\n",
    "    \"\"\"\n",
    "    The BenchmarkingToolCreator class declares the factory method that is supposed to return an\n",
    "    object of a Job class. The BenchmarkingToolCreator's subclasses usually provide the\n",
    "    implementation of this method.\n",
    "    \"\"\"\n",
    "\n",
    "    @abstractmethod\n",
    "    def factory_method_create_job(self):\n",
    "        \"\"\"\n",
    "        Note that the BenchmarkingToolCreator may also provide some default implementation of\n",
    "        the factory method.\n",
    "        \"\"\"\n",
    "        pass\n",
    "\n",
    "    def readCsvProfile(self) -> str:\n",
    "        \"\"\"\n",
    "        Also note that, despite its name, the BenchmarkingToolCreator's primary responsibility\n",
    "        is not creating jobs. Usually, it contains some core business logic\n",
    "        that relies on Job objects, returned by the factory method.\n",
    "        Subclasses can indirectly change that business logic by overriding the\n",
    "        factory method and returning a different type of job from it.\n",
    "        \"\"\"\n",
    "\n",
    "        # Call the factory method to create a Job object.\n",
    "        job = self.factory_method_create_job()\n",
    "\n",
    "        # Now, use the job.\n",
    "        result = f\"BenchmarkingToolCreator: The same creator's code has just worked with {job.readBenchmarkingProfiles()}\"\n",
    "\n",
    "        return result\n"
   ]
  },
  {
   "cell_type": "code",
   "execution_count": 5,
   "metadata": {},
   "outputs": [],
   "source": [
    "\"\"\"\n",
    "Concrete Creators override the factory method in order to change the resulting\n",
    "product's type.\n",
    "\"\"\"\n",
    "\n",
    "\n",
    "class MQBenchmarkingTool(BenchmarkingToolCreator):\n",
    "    \"\"\"\n",
    "    Note that the signature of the method still uses the abstract job type,\n",
    "    even though the concrete job is actually returned from the method. This\n",
    "    way the BenchmarkingToolCreator can stay independent of concrete job classes.\n",
    "    \"\"\"\n",
    "\n",
    "    def factory_method_create_job(self) -> Job:\n",
    "        return MaxQuantJob()\n",
    "\n",
    "\n",
    "class DiaNNBenchmarkingTool(BenchmarkingToolCreator):\n",
    "    def factory_method_create_job(self) -> Job:\n",
    "        return DiaNNJob()\n"
   ]
  },
  {
   "cell_type": "code",
   "execution_count": 6,
   "metadata": {},
   "outputs": [],
   "source": [
    "def client_code(creator: BenchmarkingToolCreator) -> None:\n",
    "    \"\"\"\n",
    "    The client code works with an instance of a concrete creator, albeit through\n",
    "    its base interface. As long as the client keeps working with the creator via\n",
    "    the base interface, you can pass it any creator's subclass.\n",
    "    \"\"\"\n",
    "\n",
    "    print(\n",
    "        f\"Client: I'm not aware of the creator's class, but it still works.\\n\"\n",
    "        f\"{creator.readCsvProfile()}\",\n",
    "        end=\"\",\n",
    "    )\n"
   ]
  },
  {
   "cell_type": "code",
   "execution_count": 7,
   "metadata": {},
   "outputs": [
    {
     "name": "stdout",
     "output_type": "stream",
     "text": [
      "App: Launched with the MQBenchmarkingTool.\n",
      "Client: I'm not aware of the creator's class, but it still works.\n",
      "BenchmarkingToolCreator: The same creator's code has just worked with {Result of the MaxQuantJob: readBenchmarkingProfiles}\n",
      "\n",
      "App: Launched with the DiaNNBenchmarkingTool.\n",
      "Client: I'm not aware of the creator's class, but it still works.\n",
      "BenchmarkingToolCreator: The same creator's code has just worked with {Result of the DiaNNJob: readBenchmarkingProfiles}"
     ]
    }
   ],
   "source": [
    "if __name__ == \"__main__\":\n",
    "    print(\"App: Launched with the MQBenchmarkingTool.\")\n",
    "    client_code(MQBenchmarkingTool())\n",
    "    print(\"\\n\")\n",
    "\n",
    "    print(\"App: Launched with the DiaNNBenchmarkingTool.\")\n",
    "    client_code(DiaNNBenchmarkingTool())\n"
   ]
  },
  {
   "cell_type": "code",
   "execution_count": null,
   "metadata": {},
   "outputs": [],
   "source": []
  }
 ],
 "metadata": {
  "interpreter": {
   "hash": "1cd49daa982e2d0df3520171ed1bc31370236c716747a62405fce76878819793"
  },
  "kernelspec": {
   "display_name": "Python 3.8.10 64-bit ('testexample-xrcCy3tl': pipenv)",
   "language": "python",
   "name": "python3"
  },
  "language_info": {
   "codemirror_mode": {
    "name": "ipython",
    "version": 3
   },
   "file_extension": ".py",
   "mimetype": "text/x-python",
   "name": "python",
   "nbconvert_exporter": "python",
   "pygments_lexer": "ipython3",
   "version": "3.8.10"
  },
  "orig_nbformat": 4
 },
 "nbformat": 4,
 "nbformat_minor": 2
}
